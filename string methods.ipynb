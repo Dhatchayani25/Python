{
 "cells": [
  {
   "cell_type": "code",
   "execution_count": 3,
   "id": "cd53eab1-8da5-4e75-bfb8-fe5f0ace8be7",
   "metadata": {},
   "outputs": [
    {
     "name": "stdout",
     "output_type": "stream",
     "text": [
      "False\n"
     ]
    }
   ],
   "source": [
    "#isupper()\n",
    "\n",
    "txt=\"Hello World\"\n",
    "x=txt.isupper()\n",
    "print(x)"
   ]
  },
  {
   "cell_type": "code",
   "execution_count": 7,
   "id": "b68e4690-16d9-4fd0-bb07-af4ad05a3219",
   "metadata": {},
   "outputs": [
    {
     "name": "stdout",
     "output_type": "stream",
     "text": [
      "True\n"
     ]
    }
   ],
   "source": [
    "#isdigit()\n",
    "txt=\"50567\"\n",
    "x=txt.isdigit()\n",
    "print(x)\n"
   ]
  },
  {
   "cell_type": "code",
   "execution_count": 9,
   "id": "fee943ce-68d4-42ae-8321-bfcc57ecc7ef",
   "metadata": {},
   "outputs": [
    {
     "name": "stdout",
     "output_type": "stream",
     "text": [
      "('Hello, ', 'Welcome', ' to my world')\n"
     ]
    }
   ],
   "source": [
    "#partition()\n",
    "txt=\"Hello, Welcome to my world\"\n",
    "x=txt.partition(\"Welcome\")\n",
    "print(x)"
   ]
  },
  {
   "cell_type": "code",
   "execution_count": 11,
   "id": "70507962-0b5e-4f40-a9e5-f4047512ea0d",
   "metadata": {},
   "outputs": [
    {
     "name": "stdout",
     "output_type": "stream",
     "text": [
      "Welcome To My World\n"
     ]
    }
   ],
   "source": [
    "#title()\n",
    "txt=\"Welcome to my World\"\n",
    "x=txt.title()\n",
    "print(x)"
   ]
  },
  {
   "cell_type": "code",
   "execution_count": 13,
   "id": "68149212-5794-498c-8295-464bdbb37a77",
   "metadata": {},
   "outputs": [
    {
     "name": "stdout",
     "output_type": "stream",
     "text": [
      "John#Somu#Janu\n"
     ]
    }
   ],
   "source": [
    "#join()\n",
    "txt=(\"John\",\"Somu\",\"Janu\")\n",
    "x=\"#\".join(txt)\n",
    "print(x)\n"
   ]
  },
  {
   "cell_type": "code",
   "execution_count": 17,
   "id": "65842638-0df7-4a3c-a8bd-3108db70808c",
   "metadata": {},
   "outputs": [
    {
     "name": "stdout",
     "output_type": "stream",
     "text": [
      "['Apple', 'Orange', 'Cherry']\n"
     ]
    }
   ],
   "source": [
    "#copy()\n",
    "fruits=[\"Apple\", \"Orange\", \"Cherry\"]\n",
    "x=fruits.copy()\n",
    "print(x)"
   ]
  },
  {
   "cell_type": "code",
   "execution_count": 21,
   "id": "cfb7e5f9-307c-4f61-97de-88ca07283db2",
   "metadata": {},
   "outputs": [
    {
     "name": "stdout",
     "output_type": "stream",
     "text": [
      "True\n"
     ]
    }
   ],
   "source": [
    "#endswith()\n",
    "txt=\"Hello Welcome to my World!\"\n",
    "x=txt.endswith(\"!\")\n",
    "print(x)"
   ]
  },
  {
   "cell_type": "code",
   "execution_count": 25,
   "id": "7e8f7811-61f9-4f50-ad38-eea4d2f70cac",
   "metadata": {},
   "outputs": [
    {
     "name": "stdout",
     "output_type": "stream",
     "text": [
      "True\n"
     ]
    }
   ],
   "source": [
    "#isdigit()\n",
    "txt=\"3456\"\n",
    "x=txt.isdigit()\n",
    "print(x)\n"
   ]
  },
  {
   "cell_type": "code",
   "execution_count": null,
   "id": "42c496d4-b07f-45bd-8593-4f9822fe8985",
   "metadata": {},
   "outputs": [],
   "source": [
    "#Arithmetic Operators()\n"
   ]
  }
 ],
 "metadata": {
  "kernelspec": {
   "display_name": "Python 3 (ipykernel)",
   "language": "python",
   "name": "python3"
  },
  "language_info": {
   "codemirror_mode": {
    "name": "ipython",
    "version": 3
   },
   "file_extension": ".py",
   "mimetype": "text/x-python",
   "name": "python",
   "nbconvert_exporter": "python",
   "pygments_lexer": "ipython3",
   "version": "3.12.7"
  }
 },
 "nbformat": 4,
 "nbformat_minor": 5
}

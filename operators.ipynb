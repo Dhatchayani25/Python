{
 "cells": [
  {
   "cell_type": "code",
   "execution_count": 1,
   "id": "7d6554b9-66cd-4caa-ab8c-c2daeabbdb32",
   "metadata": {},
   "outputs": [
    {
     "name": "stdin",
     "output_type": "stream",
     "text": [
      "Enter  the number: 5\n",
      "Enter the number: 10\n"
     ]
    },
    {
     "name": "stdout",
     "output_type": "stream",
     "text": [
      "Addition: 15\n"
     ]
    }
   ],
   "source": [
    "#Arithmetic operators\n",
    "C"
   ]
  },
  {
   "cell_type": "code",
   "execution_count": 3,
   "id": "0442dd4e-e2e2-4dfe-99f0-7a1620747cd3",
   "metadata": {},
   "outputs": [
    {
     "name": "stdin",
     "output_type": "stream",
     "text": [
      "Enter  the number: 10\n",
      "Enter the number: 5\n"
     ]
    },
    {
     "name": "stdout",
     "output_type": "stream",
     "text": [
      "5\n"
     ]
    }
   ],
   "source": [
    "a=int(input(\"Enter  the number:\"))\n",
    "b=int(input(\"Enter the number:\"))\n",
    "print(a-b)"
   ]
  },
  {
   "cell_type": "code",
   "execution_count": 5,
   "id": "50639c81-9ea4-4b7f-9406-5fae3b4fcd04",
   "metadata": {},
   "outputs": [
    {
     "name": "stdin",
     "output_type": "stream",
     "text": [
      "Enter  the number: 5\n",
      "Enter the number: 5\n"
     ]
    },
    {
     "name": "stdout",
     "output_type": "stream",
     "text": [
      "25\n"
     ]
    }
   ],
   "source": [
    "a=int(input(\"Enter  the number:\"))\n",
    "b=int(input(\"Enter the number:\"))\n",
    "print(a*b)"
   ]
  },
  {
   "cell_type": "code",
   "execution_count": 7,
   "id": "27151654-c30a-456c-aa05-50902c968f09",
   "metadata": {},
   "outputs": [
    {
     "name": "stdout",
     "output_type": "stream",
     "text": [
      "1\n"
     ]
    }
   ],
   "source": [
    "print(a//b)"
   ]
  },
  {
   "cell_type": "code",
   "execution_count": 9,
   "id": "351fb9e6-7349-4cb8-883e-e944beddd9c9",
   "metadata": {},
   "outputs": [
    {
     "name": "stdin",
     "output_type": "stream",
     "text": [
      "Enter  the number: 3\n",
      "Enter the number: 3\n"
     ]
    },
    {
     "name": "stdout",
     "output_type": "stream",
     "text": [
      "Modulus: 6\n"
     ]
    }
   ],
   "source": [
    "a=int(input(\"Enter  the number:\"))\n",
    "b=int(input(\"Enter the number:\"))\n",
    "print(\"Modulus:\",a%b)"
   ]
  },
  {
   "cell_type": "code",
   "execution_count": 11,
   "id": "bb2d0a38-b3a6-42a9-a70e-c9163680449f",
   "metadata": {},
   "outputs": [
    {
     "name": "stdin",
     "output_type": "stream",
     "text": [
      "Enter  the number: 4\n",
      "Enter the number: 4\n"
     ]
    },
    {
     "name": "stdout",
     "output_type": "stream",
     "text": [
      "Exponentiation: 256\n"
     ]
    }
   ],
   "source": [
    "a=int(input(\"Enter  the number:\"))\n",
    "b=int(input(\"Enter the number:\"))\n",
    "print(\"Exponentiation:\",a**b)"
   ]
  },
  {
   "cell_type": "code",
   "execution_count": 39,
   "id": "4503fc45-8866-458e-a924-8f093823471b",
   "metadata": {},
   "outputs": [
    {
     "name": "stdin",
     "output_type": "stream",
     "text": [
      "Enter a number: 2\n"
     ]
    },
    {
     "name": "stdout",
     "output_type": "stream",
     "text": [
      "Intitial value of x: 2\n"
     ]
    }
   ],
   "source": [
    "#Assignment Operators\n",
    "x=int(input(\"Enter a number:\"))\n",
    "print(\"Intitial value of x:\",x)\n"
   ]
  },
  {
   "cell_type": "code",
   "execution_count": 41,
   "id": "c51784f6-5772-4b84-869b-b03f2c312daa",
   "metadata": {},
   "outputs": [
    {
     "name": "stdout",
     "output_type": "stream",
     "text": [
      "4\n"
     ]
    }
   ],
   "source": [
    "x+=2\n",
    "print(x)"
   ]
  },
  {
   "cell_type": "code",
   "execution_count": 43,
   "id": "5dc9c564-a02f-48f2-8dac-2e0282f1c041",
   "metadata": {},
   "outputs": [
    {
     "name": "stdout",
     "output_type": "stream",
     "text": [
      "3\n"
     ]
    }
   ],
   "source": [
    "x-=1\n",
    "print(x)"
   ]
  },
  {
   "cell_type": "code",
   "execution_count": 61,
   "id": "a117f6e5-7045-463c-bb78-4f2d4b5dd3ed",
   "metadata": {},
   "outputs": [
    {
     "name": "stdout",
     "output_type": "stream",
     "text": [
      "0.0\n"
     ]
    }
   ],
   "source": [
    "x*=2\n",
    "print(x)"
   ]
  },
  {
   "cell_type": "code",
   "execution_count": 59,
   "id": "97a2a55e-b450-4189-ad07-5d069b1fbdea",
   "metadata": {},
   "outputs": [
    {
     "name": "stdout",
     "output_type": "stream",
     "text": [
      "0.0\n"
     ]
    }
   ],
   "source": [
    "x/=4\n",
    "print(x)"
   ]
  },
  {
   "cell_type": "code",
   "execution_count": 51,
   "id": "5fe557e5-1265-4f20-8d39-25d470a6f120",
   "metadata": {},
   "outputs": [
    {
     "name": "stdout",
     "output_type": "stream",
     "text": [
      "0.0\n"
     ]
    }
   ],
   "source": [
    "x//=2\n",
    "print(x)"
   ]
  },
  {
   "cell_type": "code",
   "execution_count": 63,
   "id": "803da3b2-6fd7-4db0-bf84-7ce420da3a30",
   "metadata": {},
   "outputs": [
    {
     "name": "stdin",
     "output_type": "stream",
     "text": [
      "Enter a number: 5\n",
      "ENter the number: 6\n"
     ]
    },
    {
     "name": "stdout",
     "output_type": "stream",
     "text": [
      "False\n"
     ]
    }
   ],
   "source": [
    "#Comparison Operator\n",
    "#Equal to\n",
    "x=int(input(\"Enter a number:\"))\n",
    "y=int(input(\"ENter the number:\"))\n",
    "print(x==y)\n"
   ]
  },
  {
   "cell_type": "code",
   "execution_count": 65,
   "id": "40793e86-e108-4a68-913a-4bd828358010",
   "metadata": {},
   "outputs": [
    {
     "name": "stdin",
     "output_type": "stream",
     "text": [
      "Enter a number: 5\n",
      "ENter the number: 6\n"
     ]
    },
    {
     "name": "stdout",
     "output_type": "stream",
     "text": [
      "True\n"
     ]
    }
   ],
   "source": [
    "#Not Equal\n",
    "x=int(input(\"Enter a number:\"))\n",
    "y=int(input(\"ENter the number:\"))\n",
    "print(x!=y)\n"
   ]
  },
  {
   "cell_type": "code",
   "execution_count": 67,
   "id": "5fc28d1a-9ad5-4291-bbc4-d00e7e9dbdb4",
   "metadata": {},
   "outputs": [
    {
     "name": "stdin",
     "output_type": "stream",
     "text": [
      "Enter a number: 5\n",
      "ENter the number: 2\n"
     ]
    },
    {
     "name": "stdout",
     "output_type": "stream",
     "text": [
      "True\n"
     ]
    }
   ],
   "source": [
    "#Greater than\n",
    "x=int(input(\"Enter a number:\"))\n",
    "y=int(input(\"ENter the number:\"))\n",
    "print(x>y)\n",
    "\n"
   ]
  },
  {
   "cell_type": "code",
   "execution_count": 69,
   "id": "b610802f-1bdf-44e2-ae9a-117d6e568eec",
   "metadata": {},
   "outputs": [
    {
     "name": "stdin",
     "output_type": "stream",
     "text": [
      "Enter a number: 5\n",
      "ENter the number: 2\n"
     ]
    },
    {
     "name": "stdout",
     "output_type": "stream",
     "text": [
      "False\n"
     ]
    }
   ],
   "source": [
    "#Less Than\n",
    "x=int(input(\"Enter a number:\"))\n",
    "y=int(input(\"ENter the number:\"))\n",
    "print(x<y)"
   ]
  },
  {
   "cell_type": "code",
   "execution_count": 73,
   "id": "2fe849fd-1694-42a8-b1cf-829bba4451fb",
   "metadata": {},
   "outputs": [
    {
     "name": "stdin",
     "output_type": "stream",
     "text": [
      "Enter a number: 5\n",
      "ENter the number: 2\n"
     ]
    },
    {
     "name": "stdout",
     "output_type": "stream",
     "text": [
      "True\n"
     ]
    },
    {
     "name": "stdin",
     "output_type": "stream",
     "text": [
      "Enter a number: 5\n",
      "ENter the number: 2\n"
     ]
    },
    {
     "name": "stdout",
     "output_type": "stream",
     "text": [
      "False\n"
     ]
    }
   ],
   "source": [
    "#Greater than equal\n",
    "x=int(input(\"Enter a number:\"))\n",
    "y=int(input(\"ENter the number:\"))\n",
    "print(x>=y)\n",
    "#Greater than equal\n",
    "x=int(input(\"Enter a number:\"))\n",
    "y=int(input(\"ENter the number:\"))\n",
    "print(x<=y)\n"
   ]
  },
  {
   "cell_type": "code",
   "execution_count": null,
   "id": "af593082-bdff-414c-b476-051916b0bec5",
   "metadata": {},
   "outputs": [],
   "source": []
  }
 ],
 "metadata": {
  "kernelspec": {
   "display_name": "Python 3 (ipykernel)",
   "language": "python",
   "name": "python3"
  },
  "language_info": {
   "codemirror_mode": {
    "name": "ipython",
    "version": 3
   },
   "file_extension": ".py",
   "mimetype": "text/x-python",
   "name": "python",
   "nbconvert_exporter": "python",
   "pygments_lexer": "ipython3",
   "version": "3.12.7"
  }
 },
 "nbformat": 4,
 "nbformat_minor": 5
}

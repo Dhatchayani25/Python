{
 "cells": [
  {
   "cell_type": "code",
   "execution_count": 5,
   "id": "58d805f1-ad41-4570-9edd-884e1c48146d",
   "metadata": {},
   "outputs": [
    {
     "name": "stdout",
     "output_type": "stream",
     "text": [
      "['Apple', 'Orange', 'Cherry']\n"
     ]
    }
   ],
   "source": [
    "#insert()\n",
    "fruits=[\"Apple\",\"Orange\"]\n",
    "fruits.insert(2,\"Cherry\")\n",
    "print(fruits)"
   ]
  },
  {
   "cell_type": "code",
   "execution_count": 9,
   "id": "906defee-961a-43f6-8527-a5dbf908b605",
   "metadata": {},
   "outputs": [
    {
     "name": "stdout",
     "output_type": "stream",
     "text": [
      "['anu', 'Janu']\n"
     ]
    }
   ],
   "source": [
    "#pop()\n",
    "name=[\"anu\",\"Janu\",\"Renu\"]\n",
    "name.pop()\n",
    "print(name)"
   ]
  },
  {
   "cell_type": "code",
   "execution_count": 11,
   "id": "c80e9b2a-28ec-4ff1-ac9f-1fb4aad0f3d5",
   "metadata": {},
   "outputs": [
    {
     "name": "stdout",
     "output_type": "stream",
     "text": [
      "['Tata', 'Kia']\n"
     ]
    }
   ],
   "source": [
    "#pop()\n",
    "car=[\"Tata\",\"Kia\",\"Indio\"]\n",
    "car.pop(2)\n",
    "print(car)"
   ]
  },
  {
   "cell_type": "code",
   "execution_count": 15,
   "id": "77dc056f-9be5-4649-8113-7fc2e582d80f",
   "metadata": {},
   "outputs": [
    {
     "name": "stdout",
     "output_type": "stream",
     "text": [
      "['anu', 'Renu', 'Tata', 'Kia', 'Indio']\n"
     ]
    }
   ],
   "source": [
    "#extend and #remove\n",
    "name=[\"anu\",\"Janu\",\"Renu\"]\n",
    "car=[\"Tata\",\"Kia\",\"Indio\"]\n",
    "name.extend(car)\n",
    "name.remove(\"Janu\")\n",
    "print(name)\n"
   ]
  },
  {
   "cell_type": "code",
   "execution_count": 21,
   "id": "041a85c6-c28c-417e-8b6b-1ed96899cb42",
   "metadata": {},
   "outputs": [
    {
     "data": {
      "text/plain": [
       "['Apple', 'Orange']"
      ]
     },
     "execution_count": 21,
     "metadata": {},
     "output_type": "execute_result"
    }
   ],
   "source": [
    "#slicing\n",
    "fruits=[\"Apple\",\"Orange\",\"Grapes\",\"Cherry\"]\n",
    "#fruits[1:2]\n",
    "fruits[-4:-2]\n",
    "\n",
    "\n"
   ]
  },
  {
   "cell_type": "code",
   "execution_count": 33,
   "id": "23796b1c-f822-463a-a62c-038fbcd4ba56",
   "metadata": {},
   "outputs": [
    {
     "ename": "SyntaxError",
     "evalue": "incomplete input (2236085351.py, line 5)",
     "output_type": "error",
     "traceback": [
      "\u001b[1;36m  Cell \u001b[1;32mIn[33], line 5\u001b[1;36m\u001b[0m\n\u001b[1;33m    \u001b[0m\n\u001b[1;37m    ^\u001b[0m\n\u001b[1;31mSyntaxError\u001b[0m\u001b[1;31m:\u001b[0m incomplete input\n"
     ]
    }
   ],
   "source": [
    "#append\n",
    "a=[1,2,3,4,5,6,7]\n",
    "a.append(7)\n",
    "print(a\n",
    "                \n"
   ]
  },
  {
   "cell_type": "code",
   "execution_count": null,
   "id": "7184bcd2-8a55-4e78-9a58-f8bf977bfa9d",
   "metadata": {},
   "outputs": [],
   "source": []
  },
  {
   "cell_type": "code",
   "execution_count": null,
   "id": "ebbfd979-c936-4624-9552-fd034bd0c1e4",
   "metadata": {},
   "outputs": [],
   "source": []
  }
 ],
 "metadata": {
  "kernelspec": {
   "display_name": "Python 3 (ipykernel)",
   "language": "python",
   "name": "python3"
  },
  "language_info": {
   "codemirror_mode": {
    "name": "ipython",
    "version": 3
   },
   "file_extension": ".py",
   "mimetype": "text/x-python",
   "name": "python",
   "nbconvert_exporter": "python",
   "pygments_lexer": "ipython3",
   "version": "3.12.7"
  }
 },
 "nbformat": 4,
 "nbformat_minor": 5
}
